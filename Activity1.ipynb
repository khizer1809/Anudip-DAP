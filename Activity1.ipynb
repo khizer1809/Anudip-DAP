{
 "cells": [
  {
   "cell_type": "code",
   "execution_count": 1,
   "id": "4b1420cc-d7f2-4de0-ae82-d14cb0b08ce9",
   "metadata": {},
   "outputs": [
    {
     "name": "stdin",
     "output_type": "stream",
     "text": [
      "Enter the first number:  5\n",
      "Enter the second number:  6\n"
     ]
    },
    {
     "name": "stdout",
     "output_type": "stream",
     "text": [
      "Multiplication of 2 numbers is : 30.0\n",
      "Sum of two numbers is : 11.0\n"
     ]
    }
   ],
   "source": [
    "#1.Calculating the multiplication and sum of two numbers by the user inputs : \n",
    "\n",
    "num1 = float(input(\"Enter the first number: \"))\n",
    "num2 = float(input(\"Enter the second number: \"))\n",
    "multiplication = num1 * num2\n",
    "summation = num1 + num2\n",
    "print(\"Multiplication of 2 numbers is :\",multiplication)\n",
    "print(\"Sum of two numbers is :\",summation)"
   ]
  },
  {
   "cell_type": "code",
   "execution_count": 2,
   "id": "c77ca817-3667-4f20-be78-18af81a880f2",
   "metadata": {},
   "outputs": [
    {
     "name": "stdout",
     "output_type": "stream",
     "text": [
      "10\n"
     ]
    }
   ],
   "source": [
    "#2.Declare two variables and print that which variable is largest one using a ternary operator:\n",
    "a = 5\n",
    "b = 10\n",
    "print(a if a > b else b)"
   ]
  },
  {
   "cell_type": "code",
   "execution_count": 3,
   "id": "00177d4c-d9c8-40be-890c-a7fcbe21147c",
   "metadata": {},
   "outputs": [
    {
     "name": "stdin",
     "output_type": "stream",
     "text": [
      "Enter your name:  Mohammed Khizer\n",
      "Enter your age:  20\n",
      "Enter your city:  blr\n"
     ]
    },
    {
     "name": "stdout",
     "output_type": "stream",
     "text": [
      "Name: Mohammed Khizer, Age: 20, City: blr\n"
     ]
    }
   ],
   "source": [
    "#3.Taking input from the user (name, age, and city) and print it in a formatted string:\n",
    "name = input(\"Enter your name: \")\n",
    "age = input(\"Enter your age: \")\n",
    "city = input(\"Enter your city: \")\n",
    "\n",
    "print(f\"Name: {name}, Age: {age}, City: {city}\")"
   ]
  },
  {
   "cell_type": "code",
   "execution_count": 4,
   "id": "a0551fba-f339-4e77-9a62-a4e84c5a7683",
   "metadata": {},
   "outputs": [
    {
     "name": "stdin",
     "output_type": "stream",
     "text": [
      "Enter the first side of the triangle:  7\n",
      "Enter the second side of the triangle:  6\n",
      "Enter the third side of the triangle:  4\n"
     ]
    },
    {
     "name": "stdout",
     "output_type": "stream",
     "text": [
      "The area of the triangle is: 11.976539567003485\n"
     ]
    }
   ],
   "source": [
    "#4.Python program to find the area of a triangle whose sides are given\n",
    "\n",
    "import math\n",
    "a = float(input(\"Enter the first side of the triangle: \"))\n",
    "b = float(input(\"Enter the second side of the triangle: \"))\n",
    "c = float(input(\"Enter the third side of the triangle: \"))\n",
    "\n",
    "s = (a + b + c) / 2 \n",
    "area = math.sqrt(s * (s - a) * (s - b) * (s - c))\n",
    "\n",
    "print(f\"The area of the triangle is: {area}\")"
   ]
  },
  {
   "cell_type": "code",
   "execution_count": 5,
   "id": "c843dbee-afce-4967-9922-29b3d391105e",
   "metadata": {},
   "outputs": [
    {
     "name": "stdin",
     "output_type": "stream",
     "text": [
      "Enter a number:  5\n"
     ]
    },
    {
     "name": "stdout",
     "output_type": "stream",
     "text": [
      "It is an odd number\n"
     ]
    }
   ],
   "source": [
    "#5.Write a Python program to check whether a number is even or odd\n",
    "\n",
    "num = int(input(\"Enter a number: \"))\n",
    "if num % 2 == 0:\n",
    "    print(\"It is an even number\")\n",
    "else:\n",
    "    print(\"It is an odd number\")"
   ]
  },
  {
   "cell_type": "code",
   "execution_count": 6,
   "id": "78bd1b03-f843-43e3-8334-1dcc9666a70a",
   "metadata": {},
   "outputs": [
    {
     "name": "stdin",
     "output_type": "stream",
     "text": [
      "Enter a number:  5\n"
     ]
    },
    {
     "name": "stdout",
     "output_type": "stream",
     "text": [
      "The square of 5.0 is 25.0\n",
      "The cube of 5.0 is 125.0\n"
     ]
    }
   ],
   "source": [
    "#6.Find the square and cube of a given number\n",
    "\n",
    "num = float(input(\"Enter a number: \"))\n",
    "\n",
    "square = num ** 2\n",
    "cube = num ** 3\n",
    "\n",
    "print(f\"The square of {num} is {square}\")\n",
    "print(f\"The cube of {num} is {cube}\")"
   ]
  },
  {
   "cell_type": "code",
   "execution_count": null,
   "id": "85b72cc7-c9e3-401e-94d3-6eae13c1a1fa",
   "metadata": {},
   "outputs": [],
   "source": []
  }
 ],
 "metadata": {
  "kernelspec": {
   "display_name": "Python 3 (ipykernel)",
   "language": "python",
   "name": "python3"
  },
  "language_info": {
   "codemirror_mode": {
    "name": "ipython",
    "version": 3
   },
   "file_extension": ".py",
   "mimetype": "text/x-python",
   "name": "python",
   "nbconvert_exporter": "python",
   "pygments_lexer": "ipython3",
   "version": "3.11.7"
  }
 },
 "nbformat": 4,
 "nbformat_minor": 5
}
