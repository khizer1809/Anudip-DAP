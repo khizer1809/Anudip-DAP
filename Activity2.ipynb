{
 "cells": [
  {
   "cell_type": "code",
   "execution_count": 4,
   "id": "4b1420cc-d7f2-4de0-ae82-d14cb0b08ce9",
   "metadata": {},
   "outputs": [
    {
     "name": "stdout",
     "output_type": "stream",
     "text": [
      "This is palindrome: True\n",
      "This is palindrome: False\n"
     ]
    }
   ],
   "source": [
    "\n",
    "##Checks if a string is a palindrome (reads the same backward as forward)\n",
    "def is_palindrome(s):\n",
    "\n",
    "   return s == s[::-1]\n",
    "\n",
    "\n",
    "string1 = \"madam\"\n",
    "print(\"This is palindrome:\",is_palindrome(string1)) \n",
    "\n",
    "string2 = \"MohammedKhizer\"\n",
    "print(\"This is palindrome:\",is_palindrome(string2))"
   ]
  },
  {
   "cell_type": "code",
   "execution_count": 5,
   "id": "c77ca817-3667-4f20-be78-18af81a880f2",
   "metadata": {},
   "outputs": [
    {
     "name": "stdout",
     "output_type": "stream",
     "text": [
      "\n",
      "Largest number is: 8300\n"
     ]
    }
   ],
   "source": [
    "##This function takes a list of numbers and returns the largest number\n",
    "def find_largest(lst):\n",
    "  if not lst:\n",
    "      return None  \n",
    "  largest = lst[0]\n",
    "  for number in lst:\n",
    "      if number > largest:\n",
    "          largest = number\n",
    "  return largest\n",
    "\n",
    "numbers = [100, 200, 350, 80, 250, 8300]\n",
    "print(\"\\nLargest number is:\",find_largest(numbers))\n",
    "\n"
   ]
  },
  {
   "cell_type": "code",
   "execution_count": 7,
   "id": "00177d4c-d9c8-40be-890c-a7fcbe21147c",
   "metadata": {},
   "outputs": [
    {
     "name": "stdout",
     "output_type": "stream",
     "text": [
      "\n",
      "Number of vowels are: 5\n",
      "Number of vowels are: 3\n",
      "Number of vowels are: 3\n"
     ]
    }
   ],
   "source": [
    "##This function counts the number of vowels (a, e, i, o, u) in a given string.         \"\"\"\n",
    "def count_vowels(s):\n",
    "\n",
    "   vowels = \"aeiouAEIOU\"\n",
    "   count = 0\n",
    "   for char in s:\n",
    "       if char in vowels:\n",
    "           count += 1\n",
    "   return count\n",
    "print(\"\\nNumber of vowels are:\",count_vowels(\"Mohammed Khizer\"))\n",
    "print(\"Number of vowels are:\",count_vowels(\"Activity2\"))  \n",
    "print(\"Number of vowels are:\",count_vowels(\"Assignment\"))"
   ]
  },
  {
   "cell_type": "code",
   "execution_count": null,
   "id": "a0551fba-f339-4e77-9a62-a4e84c5a7683",
   "metadata": {},
   "outputs": [],
   "source": []
  }
 ],
 "metadata": {
  "kernelspec": {
   "display_name": "Python 3 (ipykernel)",
   "language": "python",
   "name": "python3"
  },
  "language_info": {
   "codemirror_mode": {
    "name": "ipython",
    "version": 3
   },
   "file_extension": ".py",
   "mimetype": "text/x-python",
   "name": "python",
   "nbconvert_exporter": "python",
   "pygments_lexer": "ipython3",
   "version": "3.11.7"
  }
 },
 "nbformat": 4,
 "nbformat_minor": 5
}
